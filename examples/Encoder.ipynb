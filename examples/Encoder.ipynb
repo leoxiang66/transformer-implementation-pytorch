{
 "cells": [
  {
   "cell_type": "code",
   "execution_count": 2,
   "metadata": {
    "collapsed": true
   },
   "outputs": [],
   "source": [
    "import torch\n",
    "import torch.nn as nn\n",
    "from models.put_everthing_together import *\n",
    "\n",
    "class Encoder(nn.Module):\n",
    "    def __init__(self,n_layers,hidden_dim) -> None:\n",
    "        super().__init__()\n",
    "        self.n_layers = n_layers\n",
    "        self.layers = nn.ModuleList([EncoderLayer(hidden_dim) for _ in range(n_layers)])\n",
    "\n",
    "    def forward(self,x,enc_att_mask):\n",
    "        '''\n",
    "\n",
    "        :param x: (N,L1,D)\n",
    "        :return: (N,L1,D)\n",
    "        '''\n",
    "        tmp = x\n",
    "        for f in self.layers:\n",
    "            tmp = f.forward(tmp,enc_att_mask)\n",
    "\n",
    "        return tmp\n",
    "\n"
   ]
  },
  {
   "cell_type": "code",
   "execution_count": 2,
   "outputs": [],
   "source": [
    "\n"
   ],
   "metadata": {
    "collapsed": false,
    "pycharm": {
     "name": "#%%\n"
    }
   }
  }
 ],
 "metadata": {
  "kernelspec": {
   "display_name": "Python 3",
   "language": "python",
   "name": "python3"
  },
  "language_info": {
   "codemirror_mode": {
    "name": "ipython",
    "version": 2
   },
   "file_extension": ".py",
   "mimetype": "text/x-python",
   "name": "python",
   "nbconvert_exporter": "python",
   "pygments_lexer": "ipython2",
   "version": "2.7.6"
  }
 },
 "nbformat": 4,
 "nbformat_minor": 0
}